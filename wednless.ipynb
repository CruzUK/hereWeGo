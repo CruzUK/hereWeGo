{
 "cells": [
  {
   "cell_type": "code",
   "execution_count": 6,
   "metadata": {},
   "outputs": [],
   "source": [
    "import numpy as np\n"
   ]
  },
  {
   "cell_type": "code",
   "execution_count": 3,
   "metadata": {},
   "outputs": [
    {
     "data": {
      "text/plain": [
       "array([[5., 5., 5.],\n",
       "       [5., 5., 5.]])"
      ]
     },
     "execution_count": 3,
     "metadata": {},
     "output_type": "execute_result"
    }
   ],
   "source": [
    "number_row=2\n",
    "number_col=3\n",
    "\n",
    "\n",
    "arrays5= 5* np.ones((number_row, number_col))\n",
    "arrays5"
   ]
  },
  {
   "cell_type": "code",
   "execution_count": 7,
   "metadata": {},
   "outputs": [
    {
     "data": {
      "text/plain": [
       "array([10, 13, 16, 19, 22])"
      ]
     },
     "execution_count": 7,
     "metadata": {},
     "output_type": "execute_result"
    }
   ],
   "source": [
    "start=10\n",
    "end=25\n",
    "step=3\n",
    "evenly_step=np.arange(start,end,step)\n",
    "\n",
    "evenly_step"
   ]
  },
  {
   "cell_type": "code",
   "execution_count": 8,
   "metadata": {},
   "outputs": [
    {
     "data": {
      "text/plain": [
       "array([[1., 0.],\n",
       "       [0., 1.]])"
      ]
     },
     "execution_count": 8,
     "metadata": {},
     "output_type": "execute_result"
    }
   ],
   "source": [
    "identity=np.eye(2)\n",
    "\n",
    "identity"
   ]
  },
  {
   "cell_type": "code",
   "execution_count": 10,
   "metadata": {},
   "outputs": [
    {
     "data": {
      "text/plain": [
       "array([[0.67086954, 0.67395886, 0.87142254],\n",
       "       [0.05057194, 0.25504758, 0.87740561]])"
      ]
     },
     "execution_count": 10,
     "metadata": {},
     "output_type": "execute_result"
    }
   ],
   "source": [
    "random01=np.random.random((2,3))\n",
    "\n",
    "random01"
   ]
  },
  {
   "cell_type": "code",
   "execution_count": 14,
   "metadata": {},
   "outputs": [
    {
     "data": {
      "text/plain": [
       "array([[3, 0, 7],\n",
       "       [2, 6, 9]])"
      ]
     },
     "execution_count": 14,
     "metadata": {},
     "output_type": "execute_result"
    }
   ],
   "source": [
    "randRange=np.random.randint(0,10,(2,3))\n",
    "randRange"
   ]
  },
  {
   "cell_type": "code",
   "execution_count": 17,
   "metadata": {},
   "outputs": [
    {
     "data": {
      "text/plain": [
       "array([[2, 3, 5],\n",
       "       [2, 3, 6]])"
      ]
     },
     "execution_count": 17,
     "metadata": {},
     "output_type": "execute_result"
    }
   ],
   "source": [
    "a=np.array([[2,3,5], [2,3,6]])\n",
    "\n",
    "a\n",
    "\n",
    "\n",
    "\n"
   ]
  },
  {
   "cell_type": "code",
   "execution_count": 19,
   "metadata": {},
   "outputs": [
    {
     "data": {
      "text/plain": [
       "(2, 3)"
      ]
     },
     "execution_count": 19,
     "metadata": {},
     "output_type": "execute_result"
    }
   ],
   "source": [
    "a.dtype\n",
    "\n",
    "a.shape"
   ]
  },
  {
   "cell_type": "code",
   "execution_count": 22,
   "metadata": {},
   "outputs": [
    {
     "name": "stdout",
     "output_type": "stream",
     "text": [
      "[-5, -3, -7, -9, -5, -1]\n"
     ]
    }
   ],
   "source": [
    "arr = [0,2,4,5,3,7,8,9,5,1]\n",
    "\n",
    "for i in range (len(arr)):\n",
    "    if arr[i]%2== 1:\n",
    "        arr[i]= -arr[i]\n",
    "\n",
    "\n",
    "oddnumbers= [x for x in arr if x %2==1]\n",
    "\n",
    "print(oddnumbers)"
   ]
  },
  {
   "cell_type": "code",
   "execution_count": 14,
   "metadata": {},
   "outputs": [
    {
     "name": "stdout",
     "output_type": "stream",
     "text": [
      "[[ 1  2  5  4  7  8  1  2  3]\n",
      " [ 7  1  3  1  5  7  8  9 10]]\n"
     ]
    }
   ],
   "source": [
    "a = np.array([[1 ,2 , 5] , [7,1,3]])\n",
    "b = np.array([[4,7,8],     [1,5,7]])\n",
    "c= np.array([[1,2,3],      [8,9,10]])\n",
    "# stacking arrays together horizontal(column) or vertical(rows) \n",
    "abc=np.hstack([a,b,c])\n",
    "print(abc)\n",
    "\n",
    "cab=np.vstack([a,b,c])\n"
   ]
  },
  {
   "cell_type": "code",
   "execution_count": 13,
   "metadata": {},
   "outputs": [
    {
     "name": "stdout",
     "output_type": "stream",
     "text": [
      "[[1 2 5 4 7 8]\n",
      " [7 1 3 1 5 7]]\n"
     ]
    }
   ],
   "source": [
    "#concat when you put 1 then axis=1 that will use columns , 0 default use vertical \n",
    "\n",
    "ab= np.concatenate((a,b) , axis=1)\n",
    "print(ab)"
   ]
  },
  {
   "cell_type": "code",
   "execution_count": null,
   "metadata": {},
   "outputs": [],
   "source": [
    "# .npy numpy binary file use to save only sinlge numpy array \n",
    "# .npz numpy compressed archive use to save numpy array inside single file "
   ]
  },
  {
   "cell_type": "code",
   "execution_count": 24,
   "metadata": {},
   "outputs": [
    {
     "data": {
      "text/plain": [
       "array([[ 5,  9, 13],\n",
       "       [ 8,  6, 10]])"
      ]
     },
     "execution_count": 24,
     "metadata": {},
     "output_type": "execute_result"
    }
   ],
   "source": [
    "add1=a+b\n",
    "\n",
    "add1"
   ]
  },
  {
   "cell_type": "code",
   "execution_count": 5,
   "metadata": {},
   "outputs": [
    {
     "ename": "NameError",
     "evalue": "name 'np' is not defined",
     "output_type": "error",
     "traceback": [
      "\u001b[1;31m---------------------------------------------------------------------------\u001b[0m",
      "\u001b[1;31mNameError\u001b[0m                                 Traceback (most recent call last)",
      "Cell \u001b[1;32mIn[5], line 3\u001b[0m\n\u001b[0;32m      1\u001b[0m \u001b[39m#dot product\u001b[39;00m\n\u001b[1;32m----> 3\u001b[0m b1 \u001b[39m=\u001b[39m np\u001b[39m.\u001b[39marray([[\u001b[39m4\u001b[39m,\u001b[39m6\u001b[39m] , [\u001b[39m2\u001b[39m,\u001b[39m3\u001b[39m] , [\u001b[39m2\u001b[39m,\u001b[39m3\u001b[39m]])\n\u001b[0;32m      5\u001b[0m dotp\u001b[39m=\u001b[39m a\u001b[39m.\u001b[39mdot(b1)\n\u001b[0;32m      7\u001b[0m dotp\n",
      "\u001b[1;31mNameError\u001b[0m: name 'np' is not defined"
     ]
    }
   ],
   "source": [
    "#dot product\n",
    "\n",
    "b1 = np.array([[4,6] , [2,3] , [2,3]])\n",
    "\n",
    "dotp= a.dot(b1)\n",
    "\n",
    "dotp"
   ]
  },
  {
   "cell_type": "code",
   "execution_count": 28,
   "metadata": {},
   "outputs": [],
   "source": [
    "d = np.array([0,0])\n",
    "e= np.array([0,3])\n",
    "f=np.array([1.5 ,0])"
   ]
  },
  {
   "cell_type": "code",
   "execution_count": 34,
   "metadata": {},
   "outputs": [
    {
     "name": "stdout",
     "output_type": "stream",
     "text": [
      "3.0\n",
      "1.5\n",
      "3.3541019662496847\n"
     ]
    }
   ],
   "source": [
    "from numpy import linalg as la \n",
    "de = la.norm(d-e)\n",
    "de2= la.norm(d-f)\n",
    "de3= la.norm(e-f)\n",
    "\n",
    "print(de)\n",
    "print(de2)\n",
    "print(de3)"
   ]
  },
  {
   "cell_type": "code",
   "execution_count": 8,
   "metadata": {},
   "outputs": [
    {
     "name": "stdout",
     "output_type": "stream",
     "text": [
      "[ 0  2  4 -5 -3 -1 -5  6 -7 -9]\n"
     ]
    }
   ],
   "source": [
    "arr = np.array([0, 2, 4, 5, 3, 1, 5, 6, 7, 9])\n",
    "\n",
    "# Replace the odd numbers with their negative counterparts\n",
    "arr[arr % 2 != 0] *= -1\n",
    "\n",
    "print(arr)"
   ]
  },
  {
   "cell_type": "code",
   "execution_count": 15,
   "metadata": {},
   "outputs": [],
   "source": [
    "np.save('aray_a',a)\n",
    "\n"
   ]
  },
  {
   "cell_type": "code",
   "execution_count": 16,
   "metadata": {},
   "outputs": [],
   "source": [
    "#multiple array files \n",
    "\n",
    "np.savez('multi_ab', arr1=a, arr2=b)"
   ]
  },
  {
   "cell_type": "code",
   "execution_count": 17,
   "metadata": {},
   "outputs": [],
   "source": [
    "# save array to txt file \n",
    "\n",
    "np.savetxt('array_a.txt',a)"
   ]
  },
  {
   "cell_type": "code",
   "execution_count": null,
   "metadata": {},
   "outputs": [],
   "source": [
    "#conversion specifire is %d , it specifing that conversion should be here an INT in this example, %s tjats for string , \n",
    "# %f thats for float . \n",
    "np.savetxt('array2.txt', array=a , delimiter=',', fmt='%d')"
   ]
  },
  {
   "cell_type": "code",
   "execution_count": 18,
   "metadata": {},
   "outputs": [],
   "source": [
    "#save an array in csv.file %d is integer\n",
    "\n",
    "np.savetxt('array_a2.csv',a, delimiter=',', fmt='%d')"
   ]
  },
  {
   "cell_type": "code",
   "execution_count": 19,
   "metadata": {},
   "outputs": [
    {
     "name": "stdout",
     "output_type": "stream",
     "text": [
      "[[1 2 5]\n",
      " [7 1 3]]\n"
     ]
    }
   ],
   "source": [
    "# load npy file \n",
    "\n",
    "anpy= np.load('aray_a.npy')\n",
    "\n",
    "print(anpy)\n",
    "\n"
   ]
  },
  {
   "cell_type": "code",
   "execution_count": 21,
   "metadata": {},
   "outputs": [
    {
     "name": "stdout",
     "output_type": "stream",
     "text": [
      "[[1 2 5]\n",
      " [7 1 3]]\n"
     ]
    }
   ],
   "source": [
    "# load a file  the npz file\n",
    "\n",
    "content= np.load('multi_ab.npz')\n",
    "\n",
    "anpz=content['arr1']\n",
    "\n",
    "bnpz=content['arr2']\n",
    "\n",
    "print(anpz)"
   ]
  },
  {
   "cell_type": "code",
   "execution_count": 26,
   "metadata": {},
   "outputs": [
    {
     "name": "stdout",
     "output_type": "stream",
     "text": [
      "[[1. 2. 5.]\n",
      " [7. 1. 3.]]\n"
     ]
    }
   ],
   "source": [
    "# IMPORT TXT FILE\n",
    "\n",
    "Attxt1= np.loadtxt('array_a.txt')\n",
    "\n",
    "print(Attxt1)"
   ]
  },
  {
   "cell_type": "code",
   "execution_count": 27,
   "metadata": {},
   "outputs": [
    {
     "name": "stdout",
     "output_type": "stream",
     "text": [
      "[[1. 2. 5.]\n",
      " [7. 1. 3.]]\n"
     ]
    }
   ],
   "source": [
    "#import csv file.\n",
    "\n",
    "\n",
    "ACsv=np.loadtxt('array_a2.csv', delimiter=',')\n",
    "\n",
    "print(ACsv)"
   ]
  },
  {
   "cell_type": "code",
   "execution_count": null,
   "metadata": {},
   "outputs": [],
   "source": [
    "#row_header= ['row1' , 'row2']\n",
    "\n",
    "#df= np.array([[1,2] , [4,5]])\n",
    "\n",
    "#np.array(row_header)[:np.newaxis]\n",
    "#np.hstack((row_header,df))"
   ]
  },
  {
   "cell_type": "code",
   "execution_count": 2,
   "metadata": {},
   "outputs": [
    {
     "name": "stdout",
     "output_type": "stream",
     "text": [
      "[['a' 'row1' 'row2' 'row3']\n",
      " ['b' '1' '2' '3']\n",
      " ['c' '4' '5' '6']\n",
      " ['d' '7' '8' '9']]\n"
     ]
    }
   ],
   "source": [
    "df = np.array([[1,2,3], [4,5,6], [7,8,9]])\n",
    "\n",
    "\n",
    "\n",
    "#adding column header\n",
    "\n",
    "header = np.array([['a'], ['b'], ['c'] , ['d']]) \n",
    "\n",
    "row_header = [['row1' , 'row2' , 'row3']]\n",
    "\n",
    "#concatenate header and the row with df \n",
    "\n",
    "\n",
    "df= np.vstack((row_header, df))\n",
    "df=np.hstack((header, df))\n",
    "\n",
    "\n",
    "\n",
    "print(df)\n",
    "\n",
    "\n",
    "\n"
   ]
  },
  {
   "cell_type": "code",
   "execution_count": 1,
   "metadata": {},
   "outputs": [
    {
     "name": "stdout",
     "output_type": "stream",
     "text": [
      "[['row1' 'row2' 'row3' 'row4']\n",
      " ['a' '1' '2' '3']\n",
      " ['b' '4' '5' '6']\n",
      " ['c' '7' '8' '9']]\n",
      "2\n",
      "2\n"
     ]
    }
   ],
   "source": [
    "import numpy as np\n",
    "\n",
    "df = np.array([[1,2,3], [4,5,6] ,[7,8,9]])\n",
    "header = np.array([['a'], ['b'], ['c']])\n",
    "#row_header = np.array((['row1', 'row2' , 'row3']))\n",
    "row_header = np.array([['row1' , 'row2' , 'row3','row4']])\n",
    "\n",
    "\n",
    "df= np.hstack((header, df)) \n",
    "df= np.vstack((row_header,df))\n",
    "\n",
    "print(df)\n",
    "print(header.ndim)\n",
    "print(row_header.ndim)"
   ]
  },
  {
   "cell_type": "code",
   "execution_count": 1,
   "metadata": {},
   "outputs": [],
   "source": [
    "import numpy as np "
   ]
  },
  {
   "cell_type": "code",
   "execution_count": 9,
   "metadata": {},
   "outputs": [
    {
     "name": "stdout",
     "output_type": "stream",
     "text": [
      "[['---' 'col1' 'col2' 'col3']\n",
      " ['row1' '1' '2' '3']\n",
      " ['row2' '4' '5' '6']\n",
      " ['row3' '7' '8' '9']]\n"
     ]
    }
   ],
   "source": [
    "df = np.array([[1,2,3], [4,5,6], [7,8,9]])\n",
    "\n",
    "# round the array 1 decimal place \n",
    "\n",
    "df= np.around(df, decimals=1)\n",
    "\n",
    "#add column headers \n",
    "\n",
    "column_headers= ['col1', 'col2', 'col3']\n",
    "#add row headers \n",
    "row_headers=[['---'] , ['row1'] , ['row2'] ,['row3']]\n",
    "\n",
    "#combine column and row header\n",
    "\n",
    "df_with_headers=np.vstack([column_headers,df])\n",
    "\n",
    "df_with_row=np.hstack([row_headers,df_with_headers])\n",
    "\n",
    "#save file txt \n",
    "\n",
    "np.savetxt('df.csv', df_with_row, delimiter=',',fmt='%s')\n",
    "\n",
    "\n",
    "print(df_with_row)"
   ]
  },
  {
   "cell_type": "code",
   "execution_count": 16,
   "metadata": {},
   "outputs": [
    {
     "name": "stdout",
     "output_type": "stream",
     "text": [
      "[10 19 26 78 87 99]\n",
      "[19 78 99]\n",
      "[10 26 78]\n"
     ]
    }
   ],
   "source": [
    "a= np.array([10,19,26,78,87,99])\n",
    "\n",
    "print(a)\n",
    "\n",
    "\n",
    "b=[1,3,5]\n",
    "\n",
    "print(a[b]) # using b as an index to array a \n",
    "\n",
    "\n",
    "even=np.argwhere(a%2==0).flatten() #  flatten array to 1D and look for only even numbers \n",
    "\n",
    "print(a[even]) # checking whole a array thru using even variable, where was method to check if numbers are odd/even\n",
    "\n",
    "\n"
   ]
  },
  {
   "cell_type": "code",
   "execution_count": 20,
   "metadata": {},
   "outputs": [
    {
     "name": "stdout",
     "output_type": "stream",
     "text": [
      "[1 2 3 4 5 6]\n",
      "(6,)\n",
      "[[1 2 3]\n",
      " [4 5 6]]\n"
     ]
    }
   ],
   "source": [
    "a= np.arange(1,7) # printing array with range from 1 number included but end number excluded\n",
    "\n",
    "print(a) # 1 to 6 array\n",
    "\n",
    "print(a.shape) # shape showing you what array you got this is 1 D array with 6 column\n",
    "\n",
    "b=a.reshape((2,3)) # you use the 1 to 6 array and RESHAPE it by going form 1D to 2D with 2 rows and 3 columns\n",
    "print(b) \n",
    "\n",
    "#c=a.reshape((2,4))  you CANNOT do that because  there's 'not enough  numbers  you can do 3,2 means 3 rows to columns\n",
    "\n"
   ]
  },
  {
   "cell_type": "code",
   "execution_count": 27,
   "metadata": {},
   "outputs": [
    {
     "name": "stdout",
     "output_type": "stream",
     "text": [
      "[1 2 3 4 5 6]\n",
      "[[1 2 3 4 5 6]]\n",
      "(1, 6)\n",
      "[[1]\n",
      " [2]\n",
      " [3]\n",
      " [4]\n",
      " [5]\n",
      " [6]]\n",
      "(6, 1)\n"
     ]
    }
   ],
   "source": [
    "a = np.arange(1,7)\n",
    "print(a)\n",
    "\n",
    "b= a[np.newaxis, :] # you getting 2D array  which is 1 row 6 columns colon is saying I want all columns add me new row/ make it 2d\n",
    "print(b)\n",
    "print(b.shape)\n",
    "\n",
    "b= a[:, np.newaxis] # you getting  2D array which is  6 rows and 1 column  it take all rows and create 2d array which is 1 col , 6 rows\n",
    "print(b)\n",
    "print(b.shape)"
   ]
  },
  {
   "cell_type": "code",
   "execution_count": 42,
   "metadata": {},
   "outputs": [
    {
     "name": "stdout",
     "output_type": "stream",
     "text": [
      "[[1 2 5]\n",
      " [3 4 6]]\n"
     ]
    }
   ],
   "source": [
    "\n",
    "a=np.array([[1,2], [3,4]])\n",
    "\n",
    "\n",
    "b=np.array([[5,6]])\n",
    "\n",
    "c=np.concatenate((a,b.T), axis=1) # axis=None will just add them at the end and make it 1D flatten array,  axis=0 will keep 2 columns and 3 rows\n",
    "# if axis 1 will give an error because they are NOT EQUAL !! to avoid it you can do a,b.T transpose (turn around ) array\n",
    "print(c)\n",
    "\n"
   ]
  },
  {
   "cell_type": "code",
   "execution_count": 53,
   "metadata": {},
   "outputs": [
    {
     "name": "stdout",
     "output_type": "stream",
     "text": [
      "[1 2 3 4 5 6 7 8]\n",
      "[[1 2 3 4]\n",
      " [5 6 7 8]]\n",
      "[[ 6  8 10 12]\n",
      " [10 12 14 16]\n",
      " [ 6  8 10 12]\n",
      " [10 12 14 16]]\n"
     ]
    }
   ],
   "source": [
    "a=np.array([1,2,3,4])\n",
    "b=np.array([5,6,7,8])\n",
    "\n",
    "#hstack horizontal\n",
    "c= np.hstack((a, b))\n",
    "\n",
    "print(c)\n",
    "\n",
    "#vstack vertical\n",
    "\n",
    "d=np.vstack((a,b))\n",
    "print(d)\n",
    "\n",
    "x=np.array([[1,2,3,4] , [5,6,7,8] , [1,2,3,4] , [5,6,7,8]])\n",
    "y=np.array([5,6,7,8]) \n",
    "z= x+y # whats happening here is BROADCASTING it  added our y array to x array like you can see at z , it is (4,4) like the\n",
    "# x was at start but it ADDED value from y to x arrays !\n",
    "print(z)"
   ]
  },
  {
   "cell_type": "code",
   "execution_count": 64,
   "metadata": {},
   "outputs": [
    {
     "name": "stdout",
     "output_type": "stream",
     "text": [
      "[[ 8  7  9 10 11 12 13]\n",
      " [22 23 24 25 26 27 28]]\n",
      "245\n",
      "[30 30 33 35 37 39 41]\n",
      "[ 70 175]\n",
      "[15.  15.  16.5 17.5 18.5 19.5 20.5]\n"
     ]
    }
   ],
   "source": [
    "a=np.array([[8,7,9,10,11,12,13] , [22,23,24,25,26,27,28]])\n",
    "print(a)\n",
    "print(a.sum()) # it added all together but you can adde via AXIS !!\n",
    "print(a.sum(axis=0))# addin by column means 8 +22 =30 , 7 +23 =30 , 9+24 =33 and going further\n",
    "print(a.sum(axis=1))#adding by rows  [8+7+9+10+11+12+13]=70  other one is 175\n",
    "\n",
    "print(a.mean(axis=0)) #mean: Compute the arithmetic mean (average) of the given data (array elements) along the specified axis"
   ]
  },
  {
   "cell_type": "code",
   "execution_count": 75,
   "metadata": {},
   "outputs": [
    {
     "name": "stdout",
     "output_type": "stream",
     "text": [
      "[7.  8.  7.5 7.5 7.5 7.5 7.5]\n",
      "[7.  8.  7.5 7.5 7.5 7.5 7.5]\n",
      "[49.   64.   56.25 56.25 56.25 56.25 56.25]\n",
      "int32\n",
      "float32\n",
      "[ 8.  7.  9. 10. 11. 12. 13.]\n"
     ]
    }
   ],
   "source": [
    "c=np.array([[8,7,9,10,11,12,13] , [22,23,24,25,26,27,28]])\n",
    "\n",
    "print(c.std(axis=0))\n",
    "print(np.std(a,axis=0))  #same result it does return the standard deviation, a measure of the spread of a distribution, of the array elements\n",
    "\n",
    "print(c.var(axis=0)) #We get the Variance by calculating the sum of all values in a Numpy array divided by the total number of values.\n",
    "\n",
    "print(c.dtype)\n",
    "# we can force to change the datatype by using dtype=  and then just change it ! \n",
    "\n",
    "x=np.array([8,7,9,10,11,12,13] , dtype=np.float32)\n",
    "\n",
    "print(x.dtype) #from 32 to 64 bits changed with dtype=np.int64\n",
    "\n",
    "print(x)# here showing as float I did put dtype=np.float32 on x array\n",
    "\n"
   ]
  },
  {
   "cell_type": "code",
   "execution_count": 89,
   "metadata": {},
   "outputs": [
    {
     "name": "stdout",
     "output_type": "stream",
     "text": [
      "[[0. 0. 0.]\n",
      " [0. 0. 0.]]\n",
      "[[1. 1. 1.]\n",
      " [1. 1. 1.]]\n",
      "[[8 8 8]\n",
      " [8 8 8]]\n",
      "[[0. 1. 0.]\n",
      " [0. 0. 1.]\n",
      " [0. 0. 0.]]\n",
      "[[1. 0. 0.]\n",
      " [0. 1. 0.]\n",
      " [0. 0. 1.]]\n"
     ]
    }
   ],
   "source": [
    "e=np.zeros([2,3]) #building an array filled with zeros 2 rows 3 columns\n",
    "print(e)\n",
    "\n",
    "f=np.ones([2,3])#building an arry filled with ones \n",
    "print(f)\n",
    "\n",
    "g=np.full((2,3),8) #what this does is creating array 2 rows 3 columns with any number you want and fill it up !\n",
    "print(g)\n",
    "\n",
    "h=np.eye(3,k=1)#create  2D 3x3 array  which put ones diagonally but you can change it  with key value you want default remove key value!\n",
    "print(h)\n",
    "\n",
    "h=np.eye(3)#you cans see ones going from left corner to bottom right corner\n",
    "print(h)"
   ]
  },
  {
   "cell_type": "code",
   "execution_count": 103,
   "metadata": {},
   "outputs": [
    {
     "name": "stdout",
     "output_type": "stream",
     "text": [
      "[ 0.   2.5  5.   7.5 10. ]\n",
      "[[0.77174313 0.1307158 ]\n",
      " [0.91411003 0.75943553]\n",
      " [0.18969977 0.50655992]]\n",
      "[[7 6]\n",
      " [9 6]\n",
      " [7 6]]\n",
      "[0 4 3 3 1 1 4 1 2 0]\n",
      "[-7 -7 -6 -8 -7]\n"
     ]
    }
   ],
   "source": [
    "a=np.linspace(0,10,5) #first number start , second the end , third number is how many steps will take from start to end.\n",
    "\n",
    "print(a)\n",
    "\n",
    "\n",
    "b=np.random.random((3,2))#you will get 3 rows , 2 columns of random numbers from 0 to 1 \n",
    "print(b)\n",
    "c=np.random.randint(5,10, size=(3,2))#first number is start , second is end which is NOT included. size is size of our array\n",
    "#example c you can put just one number at the beggining  this will give 0 as default START VALUE .\n",
    "print(c)\n",
    "d=np.random.choice(5, size=10)#taking  ten random numbers from 0 set as default beggining upto max 5 \n",
    "\n",
    "print(d)\n",
    "\n",
    "e=np.random.choice([-8,-7,-6],size=5)\n",
    "\n",
    "print(e)"
   ]
  },
  {
   "cell_type": "code",
   "execution_count": null,
   "metadata": {},
   "outputs": [],
   "source": [
    "a=np.array([[1,2], [3,4]])"
   ]
  },
  {
   "cell_type": "code",
   "execution_count": 113,
   "metadata": {},
   "outputs": [
    {
     "name": "stdout",
     "output_type": "stream",
     "text": [
      "(3,)\n"
     ]
    }
   ],
   "source": [
    "# how to load txtfile  np.genfromtxt\n",
    "\n",
    "data = np.genfromtxt('df.csv', delimiter=',', skip_header=1, dtype=[('col1', 'i4'), ('col2', 'i4'), ('col3', 'i4'), ('col4','i4')])\n",
    "# what it's happening we opening df.csv file , with delimiter , like in SQL , skip_header just removing name of column that I can open file\n",
    "# after that I set dtype for columns which is i4 INTEGER 4 bytes or 32 bit integer  same thing \n",
    "print(data.shape)#the -1 in each paretheses are replacement for row1 row 2 row 3"
   ]
  }
 ],
 "metadata": {
  "kernelspec": {
   "display_name": "Python 3",
   "language": "python",
   "name": "python3"
  },
  "language_info": {
   "codemirror_mode": {
    "name": "ipython",
    "version": 3
   },
   "file_extension": ".py",
   "mimetype": "text/x-python",
   "name": "python",
   "nbconvert_exporter": "python",
   "pygments_lexer": "ipython3",
   "version": "3.11.1"
  },
  "orig_nbformat": 4,
  "vscode": {
   "interpreter": {
    "hash": "5238573367df39f7286bb46f9ff5f08f63a01a80960060ce41e3c79b190280fa"
   }
  }
 },
 "nbformat": 4,
 "nbformat_minor": 2
}
