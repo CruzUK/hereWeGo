{
 "cells": [
  {
   "cell_type": "code",
   "execution_count": 6,
   "metadata": {},
   "outputs": [],
   "source": [
    "import numpy as np\n"
   ]
  },
  {
   "cell_type": "code",
   "execution_count": 3,
   "metadata": {},
   "outputs": [
    {
     "data": {
      "text/plain": [
       "array([[5., 5., 5.],\n",
       "       [5., 5., 5.]])"
      ]
     },
     "execution_count": 3,
     "metadata": {},
     "output_type": "execute_result"
    }
   ],
   "source": [
    "number_row=2\n",
    "number_col=3\n",
    "\n",
    "\n",
    "arrays5= 5* np.ones((number_row, number_col))\n",
    "arrays5"
   ]
  },
  {
   "cell_type": "code",
   "execution_count": 7,
   "metadata": {},
   "outputs": [
    {
     "data": {
      "text/plain": [
       "array([10, 13, 16, 19, 22])"
      ]
     },
     "execution_count": 7,
     "metadata": {},
     "output_type": "execute_result"
    }
   ],
   "source": [
    "start=10\n",
    "end=25\n",
    "step=3\n",
    "evenly_step=np.arange(start,end,step)\n",
    "\n",
    "evenly_step"
   ]
  },
  {
   "cell_type": "code",
   "execution_count": 8,
   "metadata": {},
   "outputs": [
    {
     "data": {
      "text/plain": [
       "array([[1., 0.],\n",
       "       [0., 1.]])"
      ]
     },
     "execution_count": 8,
     "metadata": {},
     "output_type": "execute_result"
    }
   ],
   "source": [
    "identity=np.eye(2)\n",
    "\n",
    "identity"
   ]
  },
  {
   "cell_type": "code",
   "execution_count": 10,
   "metadata": {},
   "outputs": [
    {
     "data": {
      "text/plain": [
       "array([[0.67086954, 0.67395886, 0.87142254],\n",
       "       [0.05057194, 0.25504758, 0.87740561]])"
      ]
     },
     "execution_count": 10,
     "metadata": {},
     "output_type": "execute_result"
    }
   ],
   "source": [
    "random01=np.random.random((2,3))\n",
    "\n",
    "random01"
   ]
  },
  {
   "cell_type": "code",
   "execution_count": 14,
   "metadata": {},
   "outputs": [
    {
     "data": {
      "text/plain": [
       "array([[3, 0, 7],\n",
       "       [2, 6, 9]])"
      ]
     },
     "execution_count": 14,
     "metadata": {},
     "output_type": "execute_result"
    }
   ],
   "source": [
    "randRange=np.random.randint(0,10,(2,3))\n",
    "randRange"
   ]
  },
  {
   "cell_type": "code",
   "execution_count": 17,
   "metadata": {},
   "outputs": [
    {
     "data": {
      "text/plain": [
       "array([[2, 3, 5],\n",
       "       [2, 3, 6]])"
      ]
     },
     "execution_count": 17,
     "metadata": {},
     "output_type": "execute_result"
    }
   ],
   "source": [
    "a=np.array([[2,3,5], [2,3,6]])\n",
    "\n",
    "a\n",
    "\n",
    "\n",
    "\n"
   ]
  },
  {
   "cell_type": "code",
   "execution_count": 19,
   "metadata": {},
   "outputs": [
    {
     "data": {
      "text/plain": [
       "(2, 3)"
      ]
     },
     "execution_count": 19,
     "metadata": {},
     "output_type": "execute_result"
    }
   ],
   "source": [
    "a.dtype\n",
    "\n",
    "a.shape"
   ]
  },
  {
   "cell_type": "code",
   "execution_count": 22,
   "metadata": {},
   "outputs": [
    {
     "name": "stdout",
     "output_type": "stream",
     "text": [
      "[-5, -3, -7, -9, -5, -1]\n"
     ]
    }
   ],
   "source": [
    "arr = [0,2,4,5,3,7,8,9,5,1]\n",
    "\n",
    "for i in range (len(arr)):\n",
    "    if arr[i]%2== 1:\n",
    "        arr[i]= -arr[i]\n",
    "\n",
    "\n",
    "oddnumbers= [x for x in arr if x %2==1]\n",
    "\n",
    "print(oddnumbers)"
   ]
  },
  {
   "cell_type": "code",
   "execution_count": 14,
   "metadata": {},
   "outputs": [
    {
     "name": "stdout",
     "output_type": "stream",
     "text": [
      "[[ 1  2  5  4  7  8  1  2  3]\n",
      " [ 7  1  3  1  5  7  8  9 10]]\n"
     ]
    }
   ],
   "source": [
    "a = np.array([[1 ,2 , 5] , [7,1,3]])\n",
    "b = np.array([[4,7,8],     [1,5,7]])\n",
    "c= np.array([[1,2,3],      [8,9,10]])\n",
    "# stacking arrays together horizontal(column) or vertical(rows) \n",
    "abc=np.hstack([a,b,c])\n",
    "print(abc)\n",
    "\n",
    "cab=np.vstack([a,b,c])\n"
   ]
  },
  {
   "cell_type": "code",
   "execution_count": 13,
   "metadata": {},
   "outputs": [
    {
     "name": "stdout",
     "output_type": "stream",
     "text": [
      "[[1 2 5 4 7 8]\n",
      " [7 1 3 1 5 7]]\n"
     ]
    }
   ],
   "source": [
    "#concat when you put 1 then axis=1 that will use columns , 0 default use vertical \n",
    "\n",
    "ab= np.concatenate((a,b) , axis=1)\n",
    "print(ab)"
   ]
  },
  {
   "cell_type": "code",
   "execution_count": null,
   "metadata": {},
   "outputs": [],
   "source": [
    "# .npy numpy binary file use to save only sinlge numpy array \n",
    "# .npz numpy compressed archive use to save numpy array inside single file "
   ]
  },
  {
   "cell_type": "code",
   "execution_count": 24,
   "metadata": {},
   "outputs": [
    {
     "data": {
      "text/plain": [
       "array([[ 5,  9, 13],\n",
       "       [ 8,  6, 10]])"
      ]
     },
     "execution_count": 24,
     "metadata": {},
     "output_type": "execute_result"
    }
   ],
   "source": [
    "add1=a+b\n",
    "\n",
    "add1"
   ]
  },
  {
   "cell_type": "code",
   "execution_count": 5,
   "metadata": {},
   "outputs": [
    {
     "ename": "NameError",
     "evalue": "name 'np' is not defined",
     "output_type": "error",
     "traceback": [
      "\u001b[1;31m---------------------------------------------------------------------------\u001b[0m",
      "\u001b[1;31mNameError\u001b[0m                                 Traceback (most recent call last)",
      "Cell \u001b[1;32mIn[5], line 3\u001b[0m\n\u001b[0;32m      1\u001b[0m \u001b[39m#dot product\u001b[39;00m\n\u001b[1;32m----> 3\u001b[0m b1 \u001b[39m=\u001b[39m np\u001b[39m.\u001b[39marray([[\u001b[39m4\u001b[39m,\u001b[39m6\u001b[39m] , [\u001b[39m2\u001b[39m,\u001b[39m3\u001b[39m] , [\u001b[39m2\u001b[39m,\u001b[39m3\u001b[39m]])\n\u001b[0;32m      5\u001b[0m dotp\u001b[39m=\u001b[39m a\u001b[39m.\u001b[39mdot(b1)\n\u001b[0;32m      7\u001b[0m dotp\n",
      "\u001b[1;31mNameError\u001b[0m: name 'np' is not defined"
     ]
    }
   ],
   "source": [
    "#dot product\n",
    "\n",
    "b1 = np.array([[4,6] , [2,3] , [2,3]])\n",
    "\n",
    "dotp= a.dot(b1)\n",
    "\n",
    "dotp"
   ]
  },
  {
   "cell_type": "code",
   "execution_count": 28,
   "metadata": {},
   "outputs": [],
   "source": [
    "d = np.array([0,0])\n",
    "e= np.array([0,3])\n",
    "f=np.array([1.5 ,0])"
   ]
  },
  {
   "cell_type": "code",
   "execution_count": 34,
   "metadata": {},
   "outputs": [
    {
     "name": "stdout",
     "output_type": "stream",
     "text": [
      "3.0\n",
      "1.5\n",
      "3.3541019662496847\n"
     ]
    }
   ],
   "source": [
    "from numpy import linalg as la \n",
    "de = la.norm(d-e)\n",
    "de2= la.norm(d-f)\n",
    "de3= la.norm(e-f)\n",
    "\n",
    "print(de)\n",
    "print(de2)\n",
    "print(de3)"
   ]
  },
  {
   "cell_type": "code",
   "execution_count": 8,
   "metadata": {},
   "outputs": [
    {
     "name": "stdout",
     "output_type": "stream",
     "text": [
      "[ 0  2  4 -5 -3 -1 -5  6 -7 -9]\n"
     ]
    }
   ],
   "source": [
    "arr = np.array([0, 2, 4, 5, 3, 1, 5, 6, 7, 9])\n",
    "\n",
    "# Replace the odd numbers with their negative counterparts\n",
    "arr[arr % 2 != 0] *= -1\n",
    "\n",
    "print(arr)"
   ]
  },
  {
   "cell_type": "code",
   "execution_count": 15,
   "metadata": {},
   "outputs": [],
   "source": [
    "np.save('aray_a',a)\n",
    "\n"
   ]
  },
  {
   "cell_type": "code",
   "execution_count": 16,
   "metadata": {},
   "outputs": [],
   "source": [
    "#multiple array files \n",
    "\n",
    "np.savez('multi_ab', arr1=a, arr2=b)"
   ]
  },
  {
   "cell_type": "code",
   "execution_count": 17,
   "metadata": {},
   "outputs": [],
   "source": [
    "# save array to txt file \n",
    "\n",
    "np.savetxt('array_a.txt',a)"
   ]
  },
  {
   "cell_type": "code",
   "execution_count": null,
   "metadata": {},
   "outputs": [],
   "source": [
    "#conversion specifire is %d , it specifing that conversion should be here an INT in this example, %s tjats for string , \n",
    "# %f thats for float . \n",
    "np.savetxt('array2.txt', array=a , delimiter=',', fmt='%d')"
   ]
  },
  {
   "cell_type": "code",
   "execution_count": 18,
   "metadata": {},
   "outputs": [],
   "source": [
    "#save an array in csv.file %d is integer\n",
    "\n",
    "np.savetxt('array_a2.csv',a, delimiter=',', fmt='%d')"
   ]
  },
  {
   "cell_type": "code",
   "execution_count": 19,
   "metadata": {},
   "outputs": [
    {
     "name": "stdout",
     "output_type": "stream",
     "text": [
      "[[1 2 5]\n",
      " [7 1 3]]\n"
     ]
    }
   ],
   "source": [
    "# load npy file \n",
    "\n",
    "anpy= np.load('aray_a.npy')\n",
    "\n",
    "print(anpy)\n",
    "\n"
   ]
  },
  {
   "cell_type": "code",
   "execution_count": 21,
   "metadata": {},
   "outputs": [
    {
     "name": "stdout",
     "output_type": "stream",
     "text": [
      "[[1 2 5]\n",
      " [7 1 3]]\n"
     ]
    }
   ],
   "source": [
    "# load a file  the npz file\n",
    "\n",
    "content= np.load('multi_ab.npz')\n",
    "\n",
    "anpz=content['arr1']\n",
    "\n",
    "bnpz=content['arr2']\n",
    "\n",
    "print(anpz)"
   ]
  },
  {
   "cell_type": "code",
   "execution_count": 26,
   "metadata": {},
   "outputs": [
    {
     "name": "stdout",
     "output_type": "stream",
     "text": [
      "[[1. 2. 5.]\n",
      " [7. 1. 3.]]\n"
     ]
    }
   ],
   "source": [
    "# IMPORT TXT FILE\n",
    "\n",
    "Attxt1= np.loadtxt('array_a.txt')\n",
    "\n",
    "print(Attxt1)"
   ]
  },
  {
   "cell_type": "code",
   "execution_count": 27,
   "metadata": {},
   "outputs": [
    {
     "name": "stdout",
     "output_type": "stream",
     "text": [
      "[[1. 2. 5.]\n",
      " [7. 1. 3.]]\n"
     ]
    }
   ],
   "source": [
    "#import csv file.\n",
    "\n",
    "\n",
    "ACsv=np.loadtxt('array_a2.csv', delimiter=',')\n",
    "\n",
    "print(ACsv)"
   ]
  },
  {
   "cell_type": "code",
   "execution_count": null,
   "metadata": {},
   "outputs": [],
   "source": [
    "#row_header= ['row1' , 'row2']\n",
    "\n",
    "#df= np.array([[1,2] , [4,5]])\n",
    "\n",
    "#np.array(row_header)[:np.newaxis]\n",
    "#np.hstack((row_header,df))"
   ]
  },
  {
   "cell_type": "code",
   "execution_count": 156,
   "metadata": {},
   "outputs": [
    {
     "name": "stdout",
     "output_type": "stream",
     "text": [
      "[['a' 'row1' 'row2' 'row3']\n",
      " ['b' '1' '2' '3']\n",
      " ['c' '4' '5' '6']\n",
      " ['d' '7' '8' '9']]\n"
     ]
    }
   ],
   "source": [
    "df = np.array([[1,2,3], [4,5,6], [7,8,9]])\n",
    "\n",
    "\n",
    "\n",
    "#adding column header\n",
    "\n",
    "header = np.array([['a'], ['b'], ['c'] , ['d']]) \n",
    "\n",
    "row_header = [['row1' , 'row2' , 'row3']]\n",
    "\n",
    "#concatenate header and the row with df \n",
    "\n",
    "\n",
    "df= np.vstack((row_header, df))\n",
    "df=np.hstack((header, df))\n",
    "\n",
    "\n",
    "\n",
    "print(df)\n",
    "\n",
    "\n",
    "\n"
   ]
  },
  {
   "cell_type": "code",
   "execution_count": 158,
   "metadata": {},
   "outputs": [
    {
     "name": "stdout",
     "output_type": "stream",
     "text": [
      "[['row1' 'row2' 'row3' 'row4']\n",
      " ['a' '1' '2' '3']\n",
      " ['b' '4' '5' '6']\n",
      " ['c' '7' '8' '9']]\n",
      "2\n",
      "2\n"
     ]
    }
   ],
   "source": [
    "import numpy as np\n",
    "\n",
    "df = np.array([[1,2,3], [4,5,6] ,[7,8,9]])\n",
    "header = np.array([['a'], ['b'], ['c']])\n",
    "#row_header = np.array((['row1', 'row2' , 'row3']))\n",
    "row_header = np.array([['row1' , 'row2' , 'row3','row4']])\n",
    "\n",
    "\n",
    "df= np.hstack((header, df)) \n",
    "df= np.vstack((row_header,df))\n",
    "\n",
    "print(df)\n",
    "print(header.ndim)\n",
    "print(row_header.ndim)"
   ]
  }
 ],
 "metadata": {
  "kernelspec": {
   "display_name": "Python 3",
   "language": "python",
   "name": "python3"
  },
  "language_info": {
   "codemirror_mode": {
    "name": "ipython",
    "version": 3
   },
   "file_extension": ".py",
   "mimetype": "text/x-python",
   "name": "python",
   "nbconvert_exporter": "python",
   "pygments_lexer": "ipython3",
   "version": "3.11.1 (tags/v3.11.1:a7a450f, Dec  6 2022, 19:58:39) [MSC v.1934 64 bit (AMD64)]"
  },
  "orig_nbformat": 4,
  "vscode": {
   "interpreter": {
    "hash": "5238573367df39f7286bb46f9ff5f08f63a01a80960060ce41e3c79b190280fa"
   }
  }
 },
 "nbformat": 4,
 "nbformat_minor": 2
}
