{
 "cells": [
  {
   "cell_type": "code",
   "execution_count": 1,
   "metadata": {},
   "outputs": [
    {
     "ename": "ValueError",
     "evalue": "invalid literal for int() with base 10: ''",
     "output_type": "error",
     "traceback": [
      "\u001b[1;31m---------------------------------------------------------------------------\u001b[0m",
      "\u001b[1;31mValueError\u001b[0m                                Traceback (most recent call last)",
      "Cell \u001b[1;32mIn[1], line 1\u001b[0m\n\u001b[1;32m----> 1\u001b[0m txt\u001b[39m=\u001b[39m\u001b[39mint\u001b[39;49m(\u001b[39minput\u001b[39;49m(\u001b[39m\"\u001b[39;49m\u001b[39mEnter your message\u001b[39;49m\u001b[39m\"\u001b[39;49m))\n\u001b[0;32m      2\u001b[0m num_of_rep\u001b[39m=\u001b[39m\u001b[39mint\u001b[39m(\u001b[39minput\u001b[39m(\u001b[39m\"\u001b[39m\u001b[39mEnter number of rep\u001b[39m\u001b[39m\"\u001b[39m))\n\u001b[0;32m      4\u001b[0m \u001b[39mfor\u001b[39;00m i \u001b[39min\u001b[39;00m \u001b[39mrange\u001b[39m(\u001b[39m1\u001b[39m,num_of_rep\u001b[39m+\u001b[39m\u001b[39m1\u001b[39m):\n",
      "\u001b[1;31mValueError\u001b[0m: invalid literal for int() with base 10: ''"
     ]
    }
   ],
   "source": [
    "txt=int(input(\"Enter your message\"))\n",
    "num_of_rep=int(input(\"Enter number of rep\"))\n",
    "\n",
    "for i in range(1,num_of_rep+1):\n",
    "    print(f\"{i} x {txt} = {i * txt}\")\n",
    "    ## you can do this way too print(\"{}: {}\".format(i,txt))"
   ]
  },
  {
   "cell_type": "code",
   "execution_count": 16,
   "metadata": {},
   "outputs": [],
   "source": [
    "entry=''\n",
    "password='letmein'\n",
    "\n",
    "while entry != password:\n",
    "    entry=input('please enter your password')"
   ]
  },
  {
   "cell_type": "code",
   "execution_count": 18,
   "metadata": {},
   "outputs": [
    {
     "name": "stdout",
     "output_type": "stream",
     "text": [
      "Correct!\n"
     ]
    }
   ],
   "source": [
    "\n",
    "guess=\"\"\n",
    "\n",
    "while guess != \"Rumpel\":\n",
    "    guess=input(\"Guess my name?\")\n",
    "print(\"Correct!\")\n",
    "\n",
    "\n",
    "\n",
    "  "
   ]
  },
  {
   "cell_type": "code",
   "execution_count": 19,
   "metadata": {},
   "outputs": [
    {
     "name": "stdout",
     "output_type": "stream",
     "text": [
      "Wrong\n",
      "Correct\n"
     ]
    }
   ],
   "source": [
    "while True:\n",
    "    guess=input(\"Guess my name ?\")\n",
    "    if guess=='Rumpel':\n",
    "        print('Correct')\n",
    "        break\n",
    "    print(\"Wrong\")"
   ]
  },
  {
   "cell_type": "code",
   "execution_count": 20,
   "metadata": {},
   "outputs": [
    {
     "name": "stdout",
     "output_type": "stream",
     "text": [
      "wrong\n",
      "correct\n"
     ]
    }
   ],
   "source": [
    "while True:\n",
    "    guess=input(\"Guess my name\")\n",
    "    if guess!='Rumpel':\n",
    "        print(\"wrong\")\n",
    "        continue\n",
    "    print(\"correct\")\n",
    "    break"
   ]
  },
  {
   "cell_type": "code",
   "execution_count": 6,
   "metadata": {},
   "outputs": [
    {
     "name": "stdout",
     "output_type": "stream",
     "text": [
      "1 x 5=5\n",
      "2 x 5=10\n",
      "3 x 5=15\n",
      "4 x 5=20\n",
      "5 x 5=25\n",
      "6 x 5=30\n",
      "7 x 5=35\n",
      "8 x 5=40\n",
      "9 x 5=45\n",
      "10 x 5=50\n",
      "11 x 5=55\n",
      "12 x 5=60\n"
     ]
    }
   ],
   "source": [
    "time=int(input(\"Enter a time table you want me to display.\"))\n",
    "\n",
    "for i in range(1,13):\n",
    "    print(f\"{i} x {time}={i * time}\")"
   ]
  },
  {
   "cell_type": "code",
   "execution_count": 9,
   "metadata": {},
   "outputs": [
    {
     "name": "stdout",
     "output_type": "stream",
     "text": [
      "5\n"
     ]
    }
   ],
   "source": [
    "num1=int(input(\"please put the number \"))\n",
    "num2=int(input(\"please enter the numebr\"))\n",
    "\n",
    "total=num1+num2\n",
    "print(total) #total to count using int(input())"
   ]
  },
  {
   "cell_type": "code",
   "execution_count": 10,
   "metadata": {},
   "outputs": [
    {
     "data": {
      "text/plain": [
       "2"
      ]
     },
     "execution_count": 10,
     "metadata": {},
     "output_type": "execute_result"
    }
   ],
   "source": [
    "f_num=int(input(\"enter first number\"))\n",
    "s_num=int(input(\"enter second number\"))\n",
    "t_num=int(input(\"enter third number\"))\n",
    "\n",
    "total=f_num+s_num+t_num"
   ]
  },
  {
   "cell_type": "code",
   "execution_count": 25,
   "metadata": {},
   "outputs": [
    {
     "name": "stdout",
     "output_type": "stream",
     "text": [
      "Welcome in Malibu!\n",
      "Sorry ,comeback when you 18 \n"
     ]
    }
   ],
   "source": [
    "\n",
    "print(\"Welcome in Malibu!\")\n",
    "\n",
    "age=int(input('Are you old enough to get in ?'))\n",
    "\n",
    "if age >= 18:\n",
    "    print(\"Welcome in club !\")\n",
    "else:\n",
    "    print(\"Sorry ,comeback when you 18 \")"
   ]
  },
  {
   "cell_type": "code",
   "execution_count": 30,
   "metadata": {},
   "outputs": [
    {
     "name": "stdout",
     "output_type": "stream",
     "text": [
      "Welcome in fun park !\n",
      "go with adults\n"
     ]
    }
   ],
   "source": [
    "print('Welcome in fun park !')\n",
    "age=int(input('How old are you ?'))\n",
    "\n",
    "if age>=18:\n",
    "    print('get in mate')\n",
    "elif age>=13 and age<18:\n",
    "    print('go with adults')\n",
    "else:\n",
    "    print('too young kid!')"
   ]
  }
 ],
 "metadata": {
  "kernelspec": {
   "display_name": "Python 3",
   "language": "python",
   "name": "python3"
  },
  "language_info": {
   "codemirror_mode": {
    "name": "ipython",
    "version": 3
   },
   "file_extension": ".py",
   "mimetype": "text/x-python",
   "name": "python",
   "nbconvert_exporter": "python",
   "pygments_lexer": "ipython3",
   "version": "3.11.1 (tags/v3.11.1:a7a450f, Dec  6 2022, 19:58:39) [MSC v.1934 64 bit (AMD64)]"
  },
  "orig_nbformat": 4,
  "vscode": {
   "interpreter": {
    "hash": "5238573367df39f7286bb46f9ff5f08f63a01a80960060ce41e3c79b190280fa"
   }
  }
 },
 "nbformat": 4,
 "nbformat_minor": 2
}
