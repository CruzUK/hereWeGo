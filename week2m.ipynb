{
 "cells": [
  {
   "cell_type": "code",
   "execution_count": 2,
   "metadata": {},
   "outputs": [],
   "source": [
    "import numpy as np"
   ]
  },
  {
   "cell_type": "code",
   "execution_count": 3,
   "metadata": {},
   "outputs": [
    {
     "name": "stdout",
     "output_type": "stream",
     "text": [
      "[['row1' 'row2' 'row3' 'row4']\n",
      " ['a' '1' '2' '3']\n",
      " ['b' '4' '5' '6']\n",
      " ['c' '7' '8' '9']]\n",
      "2\n",
      "2\n"
     ]
    }
   ],
   "source": [
    "import numpy as np\n",
    "\n",
    "df = np.array([[1,2,3], [4,5,6] ,[7,8,9]])\n",
    "header = np.array([['a'], ['b'], ['c']])\n",
    "#row_header = np.array((['row1', 'row2' , 'row3']))\n",
    "row_header = np.array([['row1' , 'row2' , 'row3','row4']])\n",
    "\n",
    "\n",
    "df= np.hstack((header, df)) \n",
    "df= np.vstack((row_header,df))\n",
    "\n",
    "print(df)\n",
    "print(header.ndim)\n",
    "print(row_header.ndim)"
   ]
  }
 ],
 "metadata": {
  "kernelspec": {
   "display_name": "Python 3",
   "language": "python",
   "name": "python3"
  },
  "language_info": {
   "codemirror_mode": {
    "name": "ipython",
    "version": 3
   },
   "file_extension": ".py",
   "mimetype": "text/x-python",
   "name": "python",
   "nbconvert_exporter": "python",
   "pygments_lexer": "ipython3",
   "version": "3.11.1 (tags/v3.11.1:a7a450f, Dec  6 2022, 19:58:39) [MSC v.1934 64 bit (AMD64)]"
  },
  "orig_nbformat": 4,
  "vscode": {
   "interpreter": {
    "hash": "8a5edab282632443219e051e4ade2d1d5bbc671c781051bf1437897cbdfea0f1"
   }
  }
 },
 "nbformat": 4,
 "nbformat_minor": 2
}
